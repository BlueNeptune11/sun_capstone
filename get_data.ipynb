{
 "cells": [
  {
   "cell_type": "code",
   "execution_count": 2,
   "id": "e9450b6f",
   "metadata": {},
   "outputs": [
    {
     "name": "stderr",
     "output_type": "stream",
     "text": [
      "/Users/nathan/.pyenv/versions/3.13.7/envs/sun_capstone/lib/python3.13/site-packages/tqdm/auto.py:21: TqdmWarning: IProgress not found. Please update jupyter and ipywidgets. See https://ipywidgets.readthedocs.io/en/stable/user_install.html\n",
      "  from .autonotebook import tqdm as notebook_tqdm\n"
     ]
    }
   ],
   "source": [
    "import numpy as np\n",
    "import pandas as pd\n",
    "import astropy.constants as c\n",
    "from sw_functions import download_sc_dataset, get_trajectory"
   ]
  },
  {
   "cell_type": "markdown",
   "id": "06d7b842",
   "metadata": {},
   "source": [
    "Download all data for the entire missions of PSP, SolO, Ace and save them in usable Pandas DataFrame. Includes $B_r$, $B_t$, $B_n$, $B$, $V_{sw}$, $T_p$, $N_p$."
   ]
  },
  {
   "cell_type": "code",
   "execution_count": 2,
   "id": "9ec4c23e",
   "metadata": {},
   "outputs": [],
   "source": [
    "# Keep this here for now, bad practice\n",
    "import warnings\n",
    "warnings.filterwarnings(\"ignore\")"
   ]
  },
  {
   "cell_type": "markdown",
   "id": "23b4d6d2",
   "metadata": {},
   "source": [
    "# PSP data"
   ]
  },
  {
   "cell_type": "markdown",
   "id": "04a5e11c",
   "metadata": {},
   "source": [
    "## Magnetic field"
   ]
  },
  {
   "cell_type": "code",
   "execution_count": null,
   "id": "6e92da17",
   "metadata": {},
   "outputs": [],
   "source": [
    "# Define start, stop, download the data\n",
    "psp_start, psp_end = '2018-10-01', '2025-08-31'\n",
    "psp_mag = download_sc_dataset('psp', 'mag', (psp_start, psp_end))"
   ]
  },
  {
   "cell_type": "code",
   "execution_count": null,
   "id": "17a7a179",
   "metadata": {},
   "outputs": [],
   "source": [
    "# Rename columns\n",
    "psp_mag.rename(columns={'psp_fld_l2_mag_RTN_1min_0': 'B_r', 'psp_fld_l2_mag_RTN_1min_1': 'B_t', 'psp_fld_l2_mag_RTN_1min_2': 'B_n'}, inplace=True)\n",
    "\n",
    "# Create the Total Magnitude Column\n",
    "psp_mag['total_B'] = np.sqrt(psp_mag['B_r']**2 + psp_mag['B_t']**2 + psp_mag['B_n']**2)\n",
    "\n",
    "# Save 1 min data\n",
    "psp_mag.to_pickle('data/psp_mag_rtn_1min')\n",
    "\n",
    "# Resample per hour\n",
    "psp_mag_hour = psp_mag.resample('h').mean()\n",
    "\n",
    "# Save 1 hour data\n",
    "psp_mag_hour.to_pickle('data/psp_mag_rtn_1hour')"
   ]
  },
  {
   "cell_type": "markdown",
   "id": "da21215a",
   "metadata": {},
   "source": [
    "## Solar Wind"
   ]
  },
  {
   "cell_type": "code",
   "execution_count": null,
   "id": "86e4b7d0",
   "metadata": {},
   "outputs": [],
   "source": [
    "def download_by_year(year):\n",
    "\n",
    "    months = [(f'{year}-01-01', f'{year}-01-31'), (f'{year}-02-01', f'{year}-02-28'), (f'{year}-03-01', f'{year}-03-31'),(f'{year}-04-01', f'{year}-04-30'), (f'{year}-05-01', f'{year}-05-31'), (f'{year}-06-01', f'{year}-06-30'), (f'{year}-07-01', f'{year}-07-31'), (f'{year}-08-01', f'{year}-08-31'), (f'{year}-09-01', f'{year}-09-30'), (f'{year}-10-01', f'{year}-10-31'), (f'{year}-11-01', f'{year}-11-30'), (f'{year}-12-01', f'{year}-12-31')]\n",
    "\n",
    "    # Account for leap years\n",
    "    if year in ['2020', '2024']:\n",
    "        months[1] = (f'{year}-02-01', f'{year}-02-29')\n",
    "\n",
    "    # Start Date\n",
    "    if year == '2018':\n",
    "        months = months[9:]\n",
    "    \n",
    "    # No June, No November\n",
    "    if year == '2019':\n",
    "        months = months = [(f'{year}-01-01', f'{year}-01-31'), (f'{year}-02-01', f'{year}-02-28'), (f'{year}-03-01', f'{year}-03-31'),(f'{year}-04-01', f'{year}-04-30'), (f'{year}-05-01', f'{year}-05-31'), (f'{year}-07-01', f'{year}-07-31'), (f'{year}-08-01', f'{year}-08-31'), (f'{year}-09-01', f'{year}-09-30'), (f'{year}-10-01', f'{year}-10-31'), (f'{year}-12-01', f'{year}-12-31')]\n",
    "\n",
    "    # End Date\n",
    "    if year == '2025':\n",
    "        months = months[:5]\n",
    "\n",
    "    month_list = []\n",
    "\n",
    "    for month in months:\n",
    "        month_list.append(download_sc_dataset('psp', 'sw', month))\n",
    "        print(month, 'Done')\n",
    "\n",
    "    year_df = pd.concat(month_list, sort=False)\n",
    "    year_df.to_pickle(f'data/psp_sw{year}')\n",
    "    print(year, 'Done')\n",
    "\n",
    "    return year_df\n",
    "\n",
    "def format_psp_data(psp_data):\n",
    "    \n",
    "    # Bulk speed magnitude\n",
    "    psp_data['Vp'] = np.sqrt(psp_data['vp_moment_RTN_0']**2 + psp_data['vp_moment_RTN_1']**2 + psp_data['vp_moment_RTN_2']**2)\n",
    "\n",
    "    # Convert Proton thermal speed to Proton temperature (eV)\n",
    "    p_mass = c.m_p.value\n",
    "    kb = c.k_B.value\n",
    "    kb_eV = kb * 1/(c.e.value)\n",
    "\n",
    "    psp_data['Tp'] = (psp_data['wp_moment']*1000)**2*p_mass/(2*kb) * kb_eV\n",
    "\n",
    "    # Add Proton Density column\n",
    "    psp_data['Np'] = psp_data['np_moment']\n",
    "\n",
    "    return psp_data"
   ]
  },
  {
   "cell_type": "code",
   "execution_count": null,
   "id": "9db967a8",
   "metadata": {},
   "outputs": [],
   "source": [
    "# Download data by monthly chunks and save them in yearly file and global file\n",
    "psp_sw_lst = []\n",
    "\n",
    "for year in ['2018', '2019', '2020', '2021', '2022', '2023', '2024', '2025']:\n",
    "    psp_sw_lst.append(download_by_year(year))\n",
    "\n",
    "psp_sw = pd.concat(psp_sw_lst, sort=False)\n",
    "psp_sw.to_pickle('data/psp_sweap_l3i_30sec')"
   ]
  },
  {
   "cell_type": "code",
   "execution_count": null,
   "id": "2e905997",
   "metadata": {},
   "outputs": [],
   "source": [
    "# Format the global file\n",
    "psp_sw = pd.concat([pd.read_pickle(f'data/psp_sw{year}') for year in ['2018', '2019', '2020', '2021', '2022', '2023', '2024', '2025']], sort=False)\n",
    "\n",
    "psp_sw_formatted = format_psp_data(psp_sw)\n",
    "\n",
    "# Save 30ish seconds data\n",
    "psp_sw_formatted.to_pickle('data/psp_sweap_l3i_30sec')"
   ]
  },
  {
   "cell_type": "code",
   "execution_count": null,
   "id": "e0164d3a",
   "metadata": {},
   "outputs": [],
   "source": [
    "# Resample into an hourly averaged file and format it\n",
    "psp_sw_hour_lst = []\n",
    "for year in ['2018', '2019', '2020', '2021', '2022', '2023', '2024', '2025']:\n",
    "    psp_sw = pd.read_pickle(f'data/psp_sw{year}')\n",
    "    psp_sw_hour_lst.append(psp_sw.resample('h').mean())\n",
    "\n",
    "psp_sw_hour = pd.concat(psp_sw_hour_lst, sort=False)\n",
    "\n",
    "psp_sw_formatted = format_psp_data(psp_sw_hour)\n",
    "\n",
    "psp_sw_hour.to_pickle('data/psp_sweap_l3i_1hour')"
   ]
  },
  {
   "cell_type": "markdown",
   "id": "494fd743",
   "metadata": {},
   "source": [
    "# SolO Data"
   ]
  },
  {
   "cell_type": "markdown",
   "id": "98fd1a72",
   "metadata": {},
   "source": [
    "## Magnetic Field"
   ]
  },
  {
   "cell_type": "markdown",
   "id": "9dd4a54a",
   "metadata": {},
   "source": [
    "## Solar Wind"
   ]
  },
  {
   "cell_type": "markdown",
   "id": "585afe1d",
   "metadata": {},
   "source": [
    "# ACE Data"
   ]
  },
  {
   "cell_type": "markdown",
   "id": "dae9090e",
   "metadata": {},
   "source": [
    "## Magnetic Field"
   ]
  },
  {
   "cell_type": "markdown",
   "id": "b0f2b07f",
   "metadata": {},
   "source": [
    "## Solar Wind"
   ]
  }
 ],
 "metadata": {
  "kernelspec": {
   "display_name": "sun_capstone",
   "language": "python",
   "name": "python3"
  },
  "language_info": {
   "codemirror_mode": {
    "name": "ipython",
    "version": 3
   },
   "file_extension": ".py",
   "mimetype": "text/x-python",
   "name": "python",
   "nbconvert_exporter": "python",
   "pygments_lexer": "ipython3",
   "version": "3.13.7"
  }
 },
 "nbformat": 4,
 "nbformat_minor": 5
}
